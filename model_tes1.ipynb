{
 "cells": [
  {
   "cell_type": "code",
   "execution_count": 17,
   "metadata": {},
   "outputs": [],
   "source": [
    "import os\n",
    "import json\n",
    "import gzip\n",
    "import pandas as pd\n",
    "from urllib.request import urlopen\n",
    "import seaborn as sns"
   ]
  },
  {
   "cell_type": "code",
   "execution_count": 18,
   "metadata": {},
   "outputs": [],
   "source": [
    "# We import some libraries to load the dataset\n",
    "import os\n",
    "import numpy as np\n",
    "import pandas as pd\n",
    "import matplotlib.pyplot as plt\n",
    "\n",
    "from collections import Counter\n",
    "from tqdm import tqdm\n",
    "\n",
    "import torch\n",
    "import torch.nn as nn\n",
    "import torch.optim as optim\n",
    "import torch.nn.functional as F\n",
    "from torch.utils.data import TensorDataset, DataLoader\n",
    "\n",
    "import torchtext\n",
    "from torchtext.data import get_tokenizer\n",
    "\n",
    "from sklearn.utils import shuffle\n",
    "from sklearn.metrics import classification_report\n",
    "from sklearn.linear_model import LogisticRegression\n",
    "from sklearn.model_selection import train_test_split\n",
    "from sklearn.feature_extraction.text import CountVectorizer"
   ]
  },
  {
   "cell_type": "code",
   "execution_count": 19,
   "metadata": {},
   "outputs": [
    {
     "name": "stdout",
     "output_type": "stream",
     "text": [
      "Collecting en-core-web-sm==3.6.0\n",
      "  Downloading https://github.com/explosion/spacy-models/releases/download/en_core_web_sm-3.6.0/en_core_web_sm-3.6.0-py3-none-any.whl (12.8 MB)\n",
      "\u001b[2K     \u001b[90m━━━━━━━━━━━━━━━━━━━━━━━━━━━━━━━━━━━━━━━━\u001b[0m \u001b[32m12.8/12.8 MB\u001b[0m \u001b[31m21.9 MB/s\u001b[0m eta \u001b[36m0:00:00\u001b[0m00:01\u001b[0m00:01\u001b[0m\n",
      "\u001b[?25hRequirement already satisfied: spacy<3.7.0,>=3.6.0 in /Users/jimmy/Projects/neuromatch-projects/.conda/lib/python3.10/site-packages (from en-core-web-sm==3.6.0) (3.6.0)\n",
      "Requirement already satisfied: spacy-legacy<3.1.0,>=3.0.11 in /Users/jimmy/Projects/neuromatch-projects/.conda/lib/python3.10/site-packages (from spacy<3.7.0,>=3.6.0->en-core-web-sm==3.6.0) (3.0.12)\n",
      "Requirement already satisfied: spacy-loggers<2.0.0,>=1.0.0 in /Users/jimmy/Projects/neuromatch-projects/.conda/lib/python3.10/site-packages (from spacy<3.7.0,>=3.6.0->en-core-web-sm==3.6.0) (1.0.4)\n",
      "Requirement already satisfied: murmurhash<1.1.0,>=0.28.0 in /Users/jimmy/Projects/neuromatch-projects/.conda/lib/python3.10/site-packages (from spacy<3.7.0,>=3.6.0->en-core-web-sm==3.6.0) (1.0.9)\n",
      "Requirement already satisfied: cymem<2.1.0,>=2.0.2 in /Users/jimmy/Projects/neuromatch-projects/.conda/lib/python3.10/site-packages (from spacy<3.7.0,>=3.6.0->en-core-web-sm==3.6.0) (2.0.7)\n",
      "Requirement already satisfied: preshed<3.1.0,>=3.0.2 in /Users/jimmy/Projects/neuromatch-projects/.conda/lib/python3.10/site-packages (from spacy<3.7.0,>=3.6.0->en-core-web-sm==3.6.0) (3.0.8)\n",
      "Requirement already satisfied: thinc<8.2.0,>=8.1.8 in /Users/jimmy/Projects/neuromatch-projects/.conda/lib/python3.10/site-packages (from spacy<3.7.0,>=3.6.0->en-core-web-sm==3.6.0) (8.1.10)\n",
      "Requirement already satisfied: wasabi<1.2.0,>=0.9.1 in /Users/jimmy/Projects/neuromatch-projects/.conda/lib/python3.10/site-packages (from spacy<3.7.0,>=3.6.0->en-core-web-sm==3.6.0) (1.1.2)\n",
      "Requirement already satisfied: srsly<3.0.0,>=2.4.3 in /Users/jimmy/Projects/neuromatch-projects/.conda/lib/python3.10/site-packages (from spacy<3.7.0,>=3.6.0->en-core-web-sm==3.6.0) (2.4.6)\n",
      "Requirement already satisfied: catalogue<2.1.0,>=2.0.6 in /Users/jimmy/Projects/neuromatch-projects/.conda/lib/python3.10/site-packages (from spacy<3.7.0,>=3.6.0->en-core-web-sm==3.6.0) (2.0.8)\n",
      "Requirement already satisfied: typer<0.10.0,>=0.3.0 in /Users/jimmy/Projects/neuromatch-projects/.conda/lib/python3.10/site-packages (from spacy<3.7.0,>=3.6.0->en-core-web-sm==3.6.0) (0.9.0)\n",
      "Requirement already satisfied: pathy>=0.10.0 in /Users/jimmy/Projects/neuromatch-projects/.conda/lib/python3.10/site-packages (from spacy<3.7.0,>=3.6.0->en-core-web-sm==3.6.0) (0.10.2)\n",
      "Requirement already satisfied: smart-open<7.0.0,>=5.2.1 in /Users/jimmy/Projects/neuromatch-projects/.conda/lib/python3.10/site-packages (from spacy<3.7.0,>=3.6.0->en-core-web-sm==3.6.0) (6.3.0)\n",
      "Requirement already satisfied: tqdm<5.0.0,>=4.38.0 in /Users/jimmy/Projects/neuromatch-projects/.conda/lib/python3.10/site-packages (from spacy<3.7.0,>=3.6.0->en-core-web-sm==3.6.0) (4.65.0)\n",
      "Requirement already satisfied: numpy>=1.15.0 in /Users/jimmy/Projects/neuromatch-projects/.conda/lib/python3.10/site-packages (from spacy<3.7.0,>=3.6.0->en-core-web-sm==3.6.0) (1.25.1)\n",
      "Requirement already satisfied: requests<3.0.0,>=2.13.0 in /Users/jimmy/Projects/neuromatch-projects/.conda/lib/python3.10/site-packages (from spacy<3.7.0,>=3.6.0->en-core-web-sm==3.6.0) (2.31.0)\n",
      "Requirement already satisfied: pydantic!=1.8,!=1.8.1,<1.11.0,>=1.7.4 in /Users/jimmy/Projects/neuromatch-projects/.conda/lib/python3.10/site-packages (from spacy<3.7.0,>=3.6.0->en-core-web-sm==3.6.0) (1.10.11)\n",
      "Requirement already satisfied: jinja2 in /Users/jimmy/Projects/neuromatch-projects/.conda/lib/python3.10/site-packages (from spacy<3.7.0,>=3.6.0->en-core-web-sm==3.6.0) (3.1.2)\n",
      "Requirement already satisfied: setuptools in /Users/jimmy/Projects/neuromatch-projects/.conda/lib/python3.10/site-packages (from spacy<3.7.0,>=3.6.0->en-core-web-sm==3.6.0) (68.0.0)\n",
      "Requirement already satisfied: packaging>=20.0 in /Users/jimmy/Projects/neuromatch-projects/.conda/lib/python3.10/site-packages (from spacy<3.7.0,>=3.6.0->en-core-web-sm==3.6.0) (23.1)\n",
      "Requirement already satisfied: langcodes<4.0.0,>=3.2.0 in /Users/jimmy/Projects/neuromatch-projects/.conda/lib/python3.10/site-packages (from spacy<3.7.0,>=3.6.0->en-core-web-sm==3.6.0) (3.3.0)\n",
      "Requirement already satisfied: typing-extensions>=4.2.0 in /Users/jimmy/Projects/neuromatch-projects/.conda/lib/python3.10/site-packages (from pydantic!=1.8,!=1.8.1,<1.11.0,>=1.7.4->spacy<3.7.0,>=3.6.0->en-core-web-sm==3.6.0) (4.7.1)\n",
      "Requirement already satisfied: charset-normalizer<4,>=2 in /Users/jimmy/Projects/neuromatch-projects/.conda/lib/python3.10/site-packages (from requests<3.0.0,>=2.13.0->spacy<3.7.0,>=3.6.0->en-core-web-sm==3.6.0) (3.2.0)\n",
      "Requirement already satisfied: idna<4,>=2.5 in /Users/jimmy/Projects/neuromatch-projects/.conda/lib/python3.10/site-packages (from requests<3.0.0,>=2.13.0->spacy<3.7.0,>=3.6.0->en-core-web-sm==3.6.0) (3.4)\n",
      "Requirement already satisfied: urllib3<3,>=1.21.1 in /Users/jimmy/Projects/neuromatch-projects/.conda/lib/python3.10/site-packages (from requests<3.0.0,>=2.13.0->spacy<3.7.0,>=3.6.0->en-core-web-sm==3.6.0) (2.0.3)\n",
      "Requirement already satisfied: certifi>=2017.4.17 in /Users/jimmy/Projects/neuromatch-projects/.conda/lib/python3.10/site-packages (from requests<3.0.0,>=2.13.0->spacy<3.7.0,>=3.6.0->en-core-web-sm==3.6.0) (2023.5.7)\n",
      "Requirement already satisfied: blis<0.8.0,>=0.7.8 in /Users/jimmy/Projects/neuromatch-projects/.conda/lib/python3.10/site-packages (from thinc<8.2.0,>=8.1.8->spacy<3.7.0,>=3.6.0->en-core-web-sm==3.6.0) (0.7.9)\n",
      "Requirement already satisfied: confection<1.0.0,>=0.0.1 in /Users/jimmy/Projects/neuromatch-projects/.conda/lib/python3.10/site-packages (from thinc<8.2.0,>=8.1.8->spacy<3.7.0,>=3.6.0->en-core-web-sm==3.6.0) (0.1.0)\n",
      "Requirement already satisfied: click<9.0.0,>=7.1.1 in /Users/jimmy/Projects/neuromatch-projects/.conda/lib/python3.10/site-packages (from typer<0.10.0,>=0.3.0->spacy<3.7.0,>=3.6.0->en-core-web-sm==3.6.0) (8.1.5)\n",
      "Requirement already satisfied: MarkupSafe>=2.0 in /Users/jimmy/Projects/neuromatch-projects/.conda/lib/python3.10/site-packages (from jinja2->spacy<3.7.0,>=3.6.0->en-core-web-sm==3.6.0) (2.1.3)\n",
      "\u001b[38;5;2m✔ Download and installation successful\u001b[0m\n",
      "You can now load the package via spacy.load('en_core_web_sm')\n"
     ]
    }
   ],
   "source": [
    "!python -m spacy download en_core_web_sm\n"
   ]
  },
  {
   "cell_type": "code",
   "execution_count": 20,
   "metadata": {},
   "outputs": [],
   "source": [
    "import spacy\n",
    "from spacy.lang.es.stop_words import STOP_WORDS\n",
    "import en_core_web_sm\n",
    "from spacy import displacy\n",
    "from collections import Counter"
   ]
  },
  {
   "cell_type": "code",
   "execution_count": 21,
   "metadata": {},
   "outputs": [
    {
     "name": "stdout",
     "output_type": "stream",
     "text": [
      "371345\n",
      "{'overall': 1.0, 'verified': True, 'reviewTime': '02 19, 2015', 'reviewerID': 'A1V6B6TNIC10QE', 'asin': '0143026860', 'reviewerName': 'theodore j bigham', 'reviewText': 'great', 'summary': 'One Star', 'unixReviewTime': 1424304000}\n"
     ]
    }
   ],
   "source": [
    "data = []\n",
    "with gzip.open('All_Beauty.json.gz') as f:\n",
    "    for l in f:\n",
    "        data.append(json.loads(l.strip()))\n",
    "\n",
    "# total length of list, this number equals total number of products\n",
    "print(len(data))\n",
    "\n",
    "# first row of the list\n",
    "print(data[0])"
   ]
  },
  {
   "cell_type": "code",
   "execution_count": 22,
   "metadata": {},
   "outputs": [
    {
     "name": "stdout",
     "output_type": "stream",
     "text": [
      "371345\n"
     ]
    }
   ],
   "source": [
    "df = pd.DataFrame.from_dict(data)\n",
    "\n",
    "print(len(df))"
   ]
  },
  {
   "cell_type": "code",
   "execution_count": 23,
   "metadata": {},
   "outputs": [
    {
     "name": "stdout",
     "output_type": "stream",
     "text": [
      "        overall  verified   reviewTime      reviewerID        asin  \\\n",
      "0           1.0      True  02 19, 2015  A1V6B6TNIC10QE  0143026860   \n",
      "1           4.0      True  12 18, 2014  A2F5GHSXFQ0W6J  0143026860   \n",
      "2           4.0      True  08 10, 2014  A1572GUYS7DGSR  0143026860   \n",
      "3           5.0      True  03 11, 2013   A1PSGLFK1NSVO  0143026860   \n",
      "4           5.0      True  12 25, 2011   A6IKXKZMTKGSC  0143026860   \n",
      "...         ...       ...          ...             ...         ...   \n",
      "371340      1.0      True  07 20, 2017  A202DCI7TV1022  B01HJEGTYK   \n",
      "371341      5.0      True  03 16, 2017  A3FSOR5IJOFIBE  B01HJEGTYK   \n",
      "371342      5.0      True   03 1, 2017  A1B5DK6CTP2P24  B01HJEGTYK   \n",
      "371343      2.0      True  02 21, 2017  A23OUYS5IRMJS9  B01HJEGTYK   \n",
      "371344      2.0      True  12 15, 2016  A24KQ9RVU81L87  B01HJEGTYK   \n",
      "\n",
      "             reviewerName                                         reviewText  \\\n",
      "0       theodore j bigham                                              great   \n",
      "1            Mary K. Byke  My  husband wanted to reading about the Negro ...   \n",
      "2                 David G  This book was very informative, covering all a...   \n",
      "3                    TamB  I am already a baseball fan and knew a bit abo...   \n",
      "4              shoecanary  This was a good story of the Black leagues. I ...   \n",
      "...                   ...                                                ...   \n",
      "371340                Sam  It was awful. It was super frizzy and I tried ...   \n",
      "371341                TYW  I was skeptical about buying this.  Worried it...   \n",
      "371342     Norma Jennings                           Makes me look good fast.   \n",
      "371343                Lee  Way lighter than photo\\nNot mix blend of color...   \n",
      "371344          Season341  No return instructions/phone # in packaging.  ...   \n",
      "\n",
      "                                                  summary  unixReviewTime  \\\n",
      "0                                                One Star      1424304000   \n",
      "1       ... to reading about the Negro Baseball and th...      1418860800   \n",
      "2                                          Worth the Read      1407628800   \n",
      "3                                               Good Read      1362960000   \n",
      "4                     More than facts, a good story read!      1324771200   \n",
      "...                                                   ...             ...   \n",
      "371340  It was super frizzy and I tried to comb it and...      1500508800   \n",
      "371341                                            Awesome      1489622400   \n",
      "371342                                         Five Stars      1488326400   \n",
      "371343            Ok but color way off and volume as well      1487635200   \n",
      "371344         Might return for a replacement if I could.      1481760000   \n",
      "\n",
      "       vote style image  \n",
      "0       NaN   NaN   NaN  \n",
      "1       NaN   NaN   NaN  \n",
      "2       NaN   NaN   NaN  \n",
      "3       NaN   NaN   NaN  \n",
      "4         5   NaN   NaN  \n",
      "...     ...   ...   ...  \n",
      "371340  NaN   NaN   NaN  \n",
      "371341   34   NaN   NaN  \n",
      "371342   46   NaN   NaN  \n",
      "371343  NaN   NaN   NaN  \n",
      "371344  NaN   NaN   NaN  \n",
      "\n",
      "[371345 rows x 12 columns]\n"
     ]
    }
   ],
   "source": [
    "print(df)"
   ]
  },
  {
   "cell_type": "code",
   "execution_count": 71,
   "metadata": {},
   "outputs": [
    {
     "data": {
      "text/plain": [
       "Index(['overall', 'verified', 'reviewTime', 'reviewerID', 'asin',\n",
       "       'reviewerName', 'reviewText', 'summary', 'unixReviewTime', 'vote',\n",
       "       'style', 'image'],\n",
       "      dtype='object')"
      ]
     },
     "execution_count": 71,
     "metadata": {},
     "output_type": "execute_result"
    }
   ],
   "source": [
    "df.columns\n",
    "\n"
   ]
  },
  {
   "cell_type": "code",
   "execution_count": 24,
   "metadata": {},
   "outputs": [
    {
     "data": {
      "text/html": [
       "<div>\n",
       "<style scoped>\n",
       "    .dataframe tbody tr th:only-of-type {\n",
       "        vertical-align: middle;\n",
       "    }\n",
       "\n",
       "    .dataframe tbody tr th {\n",
       "        vertical-align: top;\n",
       "    }\n",
       "\n",
       "    .dataframe thead th {\n",
       "        text-align: right;\n",
       "    }\n",
       "</style>\n",
       "<table border=\"1\" class=\"dataframe\">\n",
       "  <thead>\n",
       "    <tr style=\"text-align: right;\">\n",
       "      <th></th>\n",
       "      <th>overall</th>\n",
       "      <th>verified</th>\n",
       "      <th>reviewTime</th>\n",
       "      <th>reviewerID</th>\n",
       "      <th>asin</th>\n",
       "      <th>reviewerName</th>\n",
       "      <th>reviewText</th>\n",
       "      <th>summary</th>\n",
       "      <th>unixReviewTime</th>\n",
       "      <th>vote</th>\n",
       "      <th>style</th>\n",
       "      <th>image</th>\n",
       "    </tr>\n",
       "  </thead>\n",
       "  <tbody>\n",
       "    <tr>\n",
       "      <th>0</th>\n",
       "      <td>1.0</td>\n",
       "      <td>True</td>\n",
       "      <td>02 19, 2015</td>\n",
       "      <td>A1V6B6TNIC10QE</td>\n",
       "      <td>0143026860</td>\n",
       "      <td>theodore j bigham</td>\n",
       "      <td>great</td>\n",
       "      <td>One Star</td>\n",
       "      <td>1424304000</td>\n",
       "      <td>NaN</td>\n",
       "      <td>NaN</td>\n",
       "      <td>NaN</td>\n",
       "    </tr>\n",
       "    <tr>\n",
       "      <th>1</th>\n",
       "      <td>4.0</td>\n",
       "      <td>True</td>\n",
       "      <td>12 18, 2014</td>\n",
       "      <td>A2F5GHSXFQ0W6J</td>\n",
       "      <td>0143026860</td>\n",
       "      <td>Mary K. Byke</td>\n",
       "      <td>My  husband wanted to reading about the Negro ...</td>\n",
       "      <td>... to reading about the Negro Baseball and th...</td>\n",
       "      <td>1418860800</td>\n",
       "      <td>NaN</td>\n",
       "      <td>NaN</td>\n",
       "      <td>NaN</td>\n",
       "    </tr>\n",
       "    <tr>\n",
       "      <th>2</th>\n",
       "      <td>4.0</td>\n",
       "      <td>True</td>\n",
       "      <td>08 10, 2014</td>\n",
       "      <td>A1572GUYS7DGSR</td>\n",
       "      <td>0143026860</td>\n",
       "      <td>David G</td>\n",
       "      <td>This book was very informative, covering all a...</td>\n",
       "      <td>Worth the Read</td>\n",
       "      <td>1407628800</td>\n",
       "      <td>NaN</td>\n",
       "      <td>NaN</td>\n",
       "      <td>NaN</td>\n",
       "    </tr>\n",
       "    <tr>\n",
       "      <th>3</th>\n",
       "      <td>5.0</td>\n",
       "      <td>True</td>\n",
       "      <td>03 11, 2013</td>\n",
       "      <td>A1PSGLFK1NSVO</td>\n",
       "      <td>0143026860</td>\n",
       "      <td>TamB</td>\n",
       "      <td>I am already a baseball fan and knew a bit abo...</td>\n",
       "      <td>Good Read</td>\n",
       "      <td>1362960000</td>\n",
       "      <td>NaN</td>\n",
       "      <td>NaN</td>\n",
       "      <td>NaN</td>\n",
       "    </tr>\n",
       "    <tr>\n",
       "      <th>4</th>\n",
       "      <td>5.0</td>\n",
       "      <td>True</td>\n",
       "      <td>12 25, 2011</td>\n",
       "      <td>A6IKXKZMTKGSC</td>\n",
       "      <td>0143026860</td>\n",
       "      <td>shoecanary</td>\n",
       "      <td>This was a good story of the Black leagues. I ...</td>\n",
       "      <td>More than facts, a good story read!</td>\n",
       "      <td>1324771200</td>\n",
       "      <td>5</td>\n",
       "      <td>NaN</td>\n",
       "      <td>NaN</td>\n",
       "    </tr>\n",
       "  </tbody>\n",
       "</table>\n",
       "</div>"
      ],
      "text/plain": [
       "   overall  verified   reviewTime      reviewerID        asin  \\\n",
       "0      1.0      True  02 19, 2015  A1V6B6TNIC10QE  0143026860   \n",
       "1      4.0      True  12 18, 2014  A2F5GHSXFQ0W6J  0143026860   \n",
       "2      4.0      True  08 10, 2014  A1572GUYS7DGSR  0143026860   \n",
       "3      5.0      True  03 11, 2013   A1PSGLFK1NSVO  0143026860   \n",
       "4      5.0      True  12 25, 2011   A6IKXKZMTKGSC  0143026860   \n",
       "\n",
       "        reviewerName                                         reviewText  \\\n",
       "0  theodore j bigham                                              great   \n",
       "1       Mary K. Byke  My  husband wanted to reading about the Negro ...   \n",
       "2            David G  This book was very informative, covering all a...   \n",
       "3               TamB  I am already a baseball fan and knew a bit abo...   \n",
       "4         shoecanary  This was a good story of the Black leagues. I ...   \n",
       "\n",
       "                                             summary  unixReviewTime vote  \\\n",
       "0                                           One Star      1424304000  NaN   \n",
       "1  ... to reading about the Negro Baseball and th...      1418860800  NaN   \n",
       "2                                     Worth the Read      1407628800  NaN   \n",
       "3                                          Good Read      1362960000  NaN   \n",
       "4                More than facts, a good story read!      1324771200    5   \n",
       "\n",
       "  style image  \n",
       "0   NaN   NaN  \n",
       "1   NaN   NaN  \n",
       "2   NaN   NaN  \n",
       "3   NaN   NaN  \n",
       "4   NaN   NaN  "
      ]
     },
     "execution_count": 24,
     "metadata": {},
     "output_type": "execute_result"
    }
   ],
   "source": [
    "df.head()"
   ]
  },
  {
   "cell_type": "code",
   "execution_count": 25,
   "metadata": {},
   "outputs": [
    {
     "data": {
      "image/png": "[encoded data removed]",
      "text/plain": [
       "<Figure size 700x500 with 1 Axes>"
      ]
     },
     "metadata": {},
     "output_type": "display_data"
    }
   ],
   "source": [
    "ax = df['overall'].value_counts().sort_index()\\\n",
    "    .plot(kind= 'bar', \n",
    "    title = 'Review text vs Review score', \n",
    "    figsize=(7,5))\n",
    "ax.set_xlabel('Review Score')\n",
    "ax.set_ylabel('Number of Review Text')\n",
    "plt.show()"
   ]
  },
  {
   "cell_type": "code",
   "execution_count": 26,
   "metadata": {},
   "outputs": [
    {
     "data": {
      "image/png": "[encoded data removed]",
      "text/plain": [
       "<Figure size 700x500 with 1 Axes>"
      ]
     },
     "metadata": {},
     "output_type": "display_data"
    }
   ],
   "source": [
    "ax = df['verified'].value_counts().sort_index()\\\n",
    "    .plot(kind= 'bar', \n",
    "    title = 'type_reviews', \n",
    "    figsize=(7,5))\n",
    "ax.set_xlabel('Review Score')\n",
    "plt.show()"
   ]
  },
  {
   "attachments": {},
   "cell_type": "markdown",
   "metadata": {},
   "source": [
    "Without having eliminated fake reviews, the vast majority of reviews are positive with a ranking of 5, followed by a ranking of 4."
   ]
  },
  {
   "cell_type": "code",
   "execution_count": 27,
   "metadata": {},
   "outputs": [
    {
     "data": {
      "text/plain": [
       "(371345, 12)"
      ]
     },
     "execution_count": 27,
     "metadata": {},
     "output_type": "execute_result"
    }
   ],
   "source": [
    "df.shape"
   ]
  },
  {
   "cell_type": "code",
   "execution_count": 28,
   "metadata": {},
   "outputs": [
    {
     "data": {
      "text/plain": [
       "overall           float64\n",
       "verified             bool\n",
       "reviewTime         object\n",
       "reviewerID         object\n",
       "asin               object\n",
       "reviewerName       object\n",
       "reviewText         object\n",
       "summary            object\n",
       "unixReviewTime      int64\n",
       "vote               object\n",
       "style              object\n",
       "image              object\n",
       "dtype: object"
      ]
     },
     "execution_count": 28,
     "metadata": {},
     "output_type": "execute_result"
    }
   ],
   "source": [
    "df.dtypes"
   ]
  },
  {
   "cell_type": "code",
   "execution_count": 29,
   "metadata": {},
   "outputs": [],
   "source": [
    "amazon_re = df[['overall','reviewerID', 'verified', 'reviewText']].copy()\n"
   ]
  },
  {
   "cell_type": "code",
   "execution_count": 30,
   "metadata": {},
   "outputs": [
    {
     "data": {
      "text/html": [
       "<div>\n",
       "<style scoped>\n",
       "    .dataframe tbody tr th:only-of-type {\n",
       "        vertical-align: middle;\n",
       "    }\n",
       "\n",
       "    .dataframe tbody tr th {\n",
       "        vertical-align: top;\n",
       "    }\n",
       "\n",
       "    .dataframe thead th {\n",
       "        text-align: right;\n",
       "    }\n",
       "</style>\n",
       "<table border=\"1\" class=\"dataframe\">\n",
       "  <thead>\n",
       "    <tr style=\"text-align: right;\">\n",
       "      <th></th>\n",
       "      <th>overall</th>\n",
       "      <th>reviewerID</th>\n",
       "      <th>verified</th>\n",
       "      <th>reviewText</th>\n",
       "    </tr>\n",
       "  </thead>\n",
       "  <tbody>\n",
       "    <tr>\n",
       "      <th>0</th>\n",
       "      <td>1.0</td>\n",
       "      <td>A1V6B6TNIC10QE</td>\n",
       "      <td>True</td>\n",
       "      <td>great</td>\n",
       "    </tr>\n",
       "    <tr>\n",
       "      <th>1</th>\n",
       "      <td>4.0</td>\n",
       "      <td>A2F5GHSXFQ0W6J</td>\n",
       "      <td>True</td>\n",
       "      <td>My  husband wanted to reading about the Negro ...</td>\n",
       "    </tr>\n",
       "    <tr>\n",
       "      <th>2</th>\n",
       "      <td>4.0</td>\n",
       "      <td>A1572GUYS7DGSR</td>\n",
       "      <td>True</td>\n",
       "      <td>This book was very informative, covering all a...</td>\n",
       "    </tr>\n",
       "    <tr>\n",
       "      <th>3</th>\n",
       "      <td>5.0</td>\n",
       "      <td>A1PSGLFK1NSVO</td>\n",
       "      <td>True</td>\n",
       "      <td>I am already a baseball fan and knew a bit abo...</td>\n",
       "    </tr>\n",
       "    <tr>\n",
       "      <th>4</th>\n",
       "      <td>5.0</td>\n",
       "      <td>A6IKXKZMTKGSC</td>\n",
       "      <td>True</td>\n",
       "      <td>This was a good story of the Black leagues. I ...</td>\n",
       "    </tr>\n",
       "  </tbody>\n",
       "</table>\n",
       "</div>"
      ],
      "text/plain": [
       "   overall      reviewerID  verified  \\\n",
       "0      1.0  A1V6B6TNIC10QE      True   \n",
       "1      4.0  A2F5GHSXFQ0W6J      True   \n",
       "2      4.0  A1572GUYS7DGSR      True   \n",
       "3      5.0   A1PSGLFK1NSVO      True   \n",
       "4      5.0   A6IKXKZMTKGSC      True   \n",
       "\n",
       "                                          reviewText  \n",
       "0                                              great  \n",
       "1  My  husband wanted to reading about the Negro ...  \n",
       "2  This book was very informative, covering all a...  \n",
       "3  I am already a baseball fan and knew a bit abo...  \n",
       "4  This was a good story of the Black leagues. I ...  "
      ]
     },
     "execution_count": 30,
     "metadata": {},
     "output_type": "execute_result"
    }
   ],
   "source": [
    "amazon_re.head()"
   ]
  },
  {
   "cell_type": "code",
   "execution_count": 31,
   "metadata": {},
   "outputs": [],
   "source": [
    "amazon_re = amazon_re.loc[amazon_re['verified'] != False]\n"
   ]
  },
  {
   "cell_type": "code",
   "execution_count": 32,
   "metadata": {},
   "outputs": [
    {
     "data": {
      "text/plain": [
       "(322473, 4)"
      ]
     },
     "execution_count": 32,
     "metadata": {},
     "output_type": "execute_result"
    }
   ],
   "source": [
    "amazon_re.shape"
   ]
  },
  {
   "cell_type": "code",
   "execution_count": 33,
   "metadata": {},
   "outputs": [
    {
     "data": {
      "text/html": [
       "<div>\n",
       "<style scoped>\n",
       "    .dataframe tbody tr th:only-of-type {\n",
       "        vertical-align: middle;\n",
       "    }\n",
       "\n",
       "    .dataframe tbody tr th {\n",
       "        vertical-align: top;\n",
       "    }\n",
       "\n",
       "    .dataframe thead th {\n",
       "        text-align: right;\n",
       "    }\n",
       "</style>\n",
       "<table border=\"1\" class=\"dataframe\">\n",
       "  <thead>\n",
       "    <tr style=\"text-align: right;\">\n",
       "      <th></th>\n",
       "      <th>overall</th>\n",
       "      <th>reviewerID</th>\n",
       "      <th>verified</th>\n",
       "      <th>reviewText</th>\n",
       "    </tr>\n",
       "  </thead>\n",
       "  <tbody>\n",
       "    <tr>\n",
       "      <th>0</th>\n",
       "      <td>1.0</td>\n",
       "      <td>A1V6B6TNIC10QE</td>\n",
       "      <td>True</td>\n",
       "      <td>great</td>\n",
       "    </tr>\n",
       "    <tr>\n",
       "      <th>1</th>\n",
       "      <td>4.0</td>\n",
       "      <td>A2F5GHSXFQ0W6J</td>\n",
       "      <td>True</td>\n",
       "      <td>My  husband wanted to reading about the Negro ...</td>\n",
       "    </tr>\n",
       "    <tr>\n",
       "      <th>2</th>\n",
       "      <td>4.0</td>\n",
       "      <td>A1572GUYS7DGSR</td>\n",
       "      <td>True</td>\n",
       "      <td>This book was very informative, covering all a...</td>\n",
       "    </tr>\n",
       "    <tr>\n",
       "      <th>3</th>\n",
       "      <td>5.0</td>\n",
       "      <td>A1PSGLFK1NSVO</td>\n",
       "      <td>True</td>\n",
       "      <td>I am already a baseball fan and knew a bit abo...</td>\n",
       "    </tr>\n",
       "    <tr>\n",
       "      <th>4</th>\n",
       "      <td>5.0</td>\n",
       "      <td>A6IKXKZMTKGSC</td>\n",
       "      <td>True</td>\n",
       "      <td>This was a good story of the Black leagues. I ...</td>\n",
       "    </tr>\n",
       "  </tbody>\n",
       "</table>\n",
       "</div>"
      ],
      "text/plain": [
       "   overall      reviewerID  verified  \\\n",
       "0      1.0  A1V6B6TNIC10QE      True   \n",
       "1      4.0  A2F5GHSXFQ0W6J      True   \n",
       "2      4.0  A1572GUYS7DGSR      True   \n",
       "3      5.0   A1PSGLFK1NSVO      True   \n",
       "4      5.0   A6IKXKZMTKGSC      True   \n",
       "\n",
       "                                          reviewText  \n",
       "0                                              great  \n",
       "1  My  husband wanted to reading about the Negro ...  \n",
       "2  This book was very informative, covering all a...  \n",
       "3  I am already a baseball fan and knew a bit abo...  \n",
       "4  This was a good story of the Black leagues. I ...  "
      ]
     },
     "execution_count": 33,
     "metadata": {},
     "output_type": "execute_result"
    }
   ],
   "source": [
    "amazon_re.head()"
   ]
  },
  {
   "cell_type": "code",
   "execution_count": 34,
   "metadata": {},
   "outputs": [
    {
     "name": "stdout",
     "output_type": "stream",
     "text": [
      "<class 'pandas.core.frame.DataFrame'>\n",
      "Index: 322473 entries, 0 to 371344\n",
      "Data columns (total 4 columns):\n",
      " #   Column      Non-Null Count   Dtype  \n",
      "---  ------      --------------   -----  \n",
      " 0   overall     322473 non-null  float64\n",
      " 1   reviewerID  322473 non-null  object \n",
      " 2   verified    322473 non-null  bool   \n",
      " 3   reviewText  322098 non-null  object \n",
      "dtypes: bool(1), float64(1), object(2)\n",
      "memory usage: 10.1+ MB\n"
     ]
    }
   ],
   "source": [
    "amazon_re.info()"
   ]
  },
  {
   "attachments": {},
   "cell_type": "markdown",
   "metadata": {},
   "source": [
    "Deleting NULL"
   ]
  },
  {
   "cell_type": "code",
   "execution_count": 35,
   "metadata": {},
   "outputs": [],
   "source": [
    "filas_con_nulos = amazon_re.isnull().any(axis=1)\n"
   ]
  },
  {
   "cell_type": "code",
   "execution_count": 36,
   "metadata": {},
   "outputs": [
    {
     "name": "stdout",
     "output_type": "stream",
     "text": [
      "Row with null values: 375\n"
     ]
    }
   ],
   "source": [
    "cantidad_filas_con_nulos = filas_con_nulos.sum()\n",
    "print(\"Row with null values:\", cantidad_filas_con_nulos)\n"
   ]
  },
  {
   "cell_type": "code",
   "execution_count": 37,
   "metadata": {},
   "outputs": [],
   "source": [
    "amazon_re = amazon_re.dropna()\n"
   ]
  },
  {
   "cell_type": "code",
   "execution_count": 38,
   "metadata": {},
   "outputs": [
    {
     "name": "stdout",
     "output_type": "stream",
     "text": [
      "Cantidad de filas con valores nulos: 0\n"
     ]
    }
   ],
   "source": [
    "filas_con_nulos = amazon_re.isnull().any(axis=1)\n",
    "cantidad_filas_con_nulos = filas_con_nulos.sum()\n",
    "print(\"Cantidad de filas con valores nulos:\", cantidad_filas_con_nulos)"
   ]
  },
  {
   "cell_type": "code",
   "execution_count": 39,
   "metadata": {},
   "outputs": [
    {
     "data": {
      "text/plain": [
       "(322098, 4)"
      ]
     },
     "execution_count": 39,
     "metadata": {},
     "output_type": "execute_result"
    }
   ],
   "source": [
    "amazon_re.shape"
   ]
  },
  {
   "cell_type": "code",
   "execution_count": 40,
   "metadata": {},
   "outputs": [
    {
     "name": "stdout",
     "output_type": "stream",
     "text": [
      "<class 'pandas.core.frame.DataFrame'>\n",
      "Index: 322098 entries, 0 to 371344\n",
      "Data columns (total 4 columns):\n",
      " #   Column      Non-Null Count   Dtype  \n",
      "---  ------      --------------   -----  \n",
      " 0   overall     322098 non-null  float64\n",
      " 1   reviewerID  322098 non-null  object \n",
      " 2   verified    322098 non-null  bool   \n",
      " 3   reviewText  322098 non-null  object \n",
      "dtypes: bool(1), float64(1), object(2)\n",
      "memory usage: 10.1+ MB\n"
     ]
    }
   ],
   "source": [
    "amazon_re.info()"
   ]
  },
  {
   "cell_type": "code",
   "execution_count": 41,
   "metadata": {},
   "outputs": [
    {
     "data": {
      "text/plain": [
       "count    322098.000000\n",
       "mean          4.113881\n",
       "std           1.361587\n",
       "min           1.000000\n",
       "25%           4.000000\n",
       "50%           5.000000\n",
       "75%           5.000000\n",
       "max           5.000000\n",
       "Name: overall, dtype: float64"
      ]
     },
     "execution_count": 41,
     "metadata": {},
     "output_type": "execute_result"
    }
   ],
   "source": [
    "amazon_re.describe()['overall'].T"
   ]
  },
  {
   "cell_type": "code",
   "execution_count": 42,
   "metadata": {},
   "outputs": [],
   "source": [
    "amazon_re = amazon_re[['overall','reviewerID', 'reviewText']].copy()\n"
   ]
  },
  {
   "cell_type": "code",
   "execution_count": 43,
   "metadata": {},
   "outputs": [],
   "source": [
    "#X = amazon_re.reviewText.values\n",
    "\n",
    "# Changes values from [0,4] to [0,1]\n",
    "#y = (amazon_re.overall.values > 1).astype(int)\n",
    "\n",
    "\n",
    "# Split the data into train and test\n",
    "#x_train_text, x_test_text, y_train, y_test = train_test_split(X, y, test_size=0.2, random_state=42,stratify=y)\n",
    "\n",
    "\n",
    "#Proposal 2\n",
    "\n",
    "# 0: Negative (0-1), 1: Neutral (2-3), 2: Positive (4-5)\n",
    "def label_polarity(value):\n",
    "    if value <= 1:\n",
    "        return 0\n",
    "    elif value <= 3:\n",
    "        return 1\n",
    "    else:\n",
    "        return 2\n",
    "\n",
    "amazon_re['polarity'] = amazon_re['overall'].apply(label_polarity)\n",
    "\n",
    "X = amazon_re.reviewText.values\n",
    "y = amazon_re['polarity'].values\n",
    "\n",
    "# divition of test and train data\n",
    "x_train_text, x_test_text, y_train, y_test = train_test_split(X, y, test_size=0.2, random_state=42, stratify=y)\n"
   ]
  },
  {
   "cell_type": "code",
   "execution_count": 44,
   "metadata": {},
   "outputs": [
    {
     "name": "stdout",
     "output_type": "stream",
     "text": [
      "2: This stuff is perfect. I've used Dr. Bronner before, but I like this better. It smells sooo good, and leaves my hands feeling very soft. I bought a Bath and Body Works Foaming Soap, and emptied the contents. Then I fill the container about 1/3 of the way with the Castile Soap, the rest with water, and replace top. It works exactly like a foaming hand soap. I just keep refilling the soap dispenser over and over with the Castile Soap & water mix- its much cheaper then buying a BBW soap each time.\n",
      "2: This little device comes with a lot for the price. I was very pleased with what all came with it. Works very well and does a great job of cleaning in between your teeth. If you hate flossing (like I do) this is a great and way easier alternative.\n",
      "2: Perfect!!!!\n",
      "2: Absolutely fantastic buy and will continue to purchase ! No bumps, redness, or irritation. My who-ha has been very happy :)\n",
      "0: There only 4 bottles, not 6 as advertised!\n"
     ]
    }
   ],
   "source": [
    "for s, l in zip(x_train_text[:5], y_train[:5]):\n",
    "  print('{}: {}'.format(l, s))"
   ]
  },
  {
   "cell_type": "markdown",
   "metadata": {},
   "source": [
    "Tokenization"
   ]
  },
  {
   "cell_type": "code",
   "execution_count": 45,
   "metadata": {},
   "outputs": [
    {
     "name": "stdout",
     "output_type": "stream",
     "text": [
      "Before Tokenize:  This little device comes with a lot for the price. I was very pleased with what all came with it. Works very well and does a great job of cleaning in between your teeth. If you hate flossing (like I do) this is a great and way easier alternative.\n",
      "After Tokenize:  ['this', 'little', 'device', 'comes', 'with', 'a', 'lot', 'for', 'the', 'price', '.', 'i', 'was', 'very', 'pleased', 'with', 'what', 'all', 'came', 'with', 'it', '.', 'works', 'very', 'well', 'and', 'does', 'a', 'great', 'job', 'of', 'cleaning', 'in', 'between', 'your', 'teeth', '.', 'if', 'you', 'hate', 'flossing', '(', 'like', 'i', 'do', ')', 'this', 'is', 'a', 'great', 'and', 'way', 'easier', 'alternative', '.']\n"
     ]
    }
   ],
   "source": [
    "tokenizer = get_tokenizer(\"basic_english\")\n",
    "\n",
    "print('Before Tokenize: ', x_train_text[1])\n",
    "print('After Tokenize: ', tokenizer(x_train_text[1]))"
   ]
  },
  {
   "cell_type": "code",
   "execution_count": 46,
   "metadata": {},
   "outputs": [],
   "source": [
    "nlp = spacy.load('en_core_web_sm')\n"
   ]
  },
  {
   "cell_type": "code",
   "execution_count": 47,
   "metadata": {},
   "outputs": [],
   "source": [
    "# Tokenize each review in the reviewText column\n",
    "\n",
    "tokenized_train_reviews = []\n"
   ]
  },
  {
   "cell_type": "code",
   "execution_count": 48,
   "metadata": {},
   "outputs": [
    {
     "name": "stdout",
     "output_type": "stream",
     "text": [
      "Total tokenization time for 1000 data: 11.356001138687134 seconds\n",
      "Time estimate for 400,000 data: 4542.4004554748535 seconds\n"
     ]
    }
   ],
   "source": [
    "import time\n",
    "\n",
    "sample_data = amazon_re['reviewText'].sample(n=1000)\n",
    "\n",
    "start_time = time.time()\n",
    "\n",
    "start_time = time.time()\n",
    "\n",
    "tokenized_reviews = []\n",
    "for review in sample_data:\n",
    "    tokens = nlp(review)\n",
    "    tokenized_reviews.append([token.text for token in tokens])\n",
    "\n",
    "end_time = time.time()\n",
    "total_time = end_time - start_time\n",
    "print(\"Total tokenization time for 1000 data:\", total_time, \"seconds\")\n",
    "\n",
    "estimation_time = total_time * (400000 / 1000)\n",
    "print(\"Time estimate for 400,000 data:\", estimation_time, \"seconds\")"
   ]
  },
  {
   "cell_type": "code",
   "execution_count": 49,
   "metadata": {},
   "outputs": [],
   "source": [
    "# Tokenize training data (x_train_text)\n",
    "tokenized_train_reviews = []\n",
    "\n",
    "for review in x_train_text:\n",
    "    tokens = nlp(review)\n",
    "    tokenized_train_reviews.append([token.text for token in tokens])\n",
    "\n",
    "# Convert training token list to Python list\n",
    "tokenized_train_reviews = list(tokenized_train_reviews)\n",
    "\n",
    "# Tokenize test data (x_test_text)\n",
    "tokenized_test_reviews = []\n",
    "\n",
    "for review in x_test_text:\n",
    "    tokens = nlp(review)\n",
    "    tokenized_test_reviews.append([token.text for token in tokens])\n",
    "\n",
    "# Convert test token list to Python list\n",
    "tokenized_test_reviews = list(tokenized_test_reviews)"
   ]
  },
  {
   "cell_type": "code",
   "execution_count": 50,
   "metadata": {},
   "outputs": [
    {
     "name": "stdout",
     "output_type": "stream",
     "text": [
      "Before Tokenize:  this device works as advertised and has made a noticeable improvement to my dental health.  I was never a fan of the old style flossing but i am a huge fan of water flossing\n",
      "After Tokenize:  ['this', 'device', 'works', 'as', 'advertised', 'and', 'has', 'made', 'a', 'noticeable', 'improvement', 'to', 'my', 'dental', 'health', '.', 'i', 'was', 'never', 'a', 'fan', 'of', 'the', 'old', 'style', 'flossing', 'but', 'i', 'am', 'a', 'huge', 'fan', 'of', 'water', 'flossing']\n"
     ]
    }
   ],
   "source": [
    "print('Before Tokenize: ', x_train_text[34000])\n",
    "print('After Tokenize: ', tokenizer(x_train_text[34000]))"
   ]
  },
  {
   "cell_type": "code",
   "execution_count": 53,
   "metadata": {},
   "outputs": [
    {
     "name": "stderr",
     "output_type": "stream",
     "text": [
      "100%|██████████| 257678/257678 [00:11<00:00, 23255.99it/s]\n",
      "100%|██████████| 64420/64420 [00:03<00:00, 20063.84it/s]\n"
     ]
    }
   ],
   "source": [
    "x_train_token = [tokenizer(s) for s in tqdm(x_train_text)]\n",
    "x_test_token = [tokenizer(s) for s in tqdm(x_test_text)]"
   ]
  },
  {
   "cell_type": "code",
   "execution_count": 56,
   "metadata": {},
   "outputs": [
    {
     "name": "stdout",
     "output_type": "stream",
     "text": [
      "Number of different Tokens in our Dataset: 72880\n",
      "['.', 'i', 'the', 'it', 'and', ',', 'a', 'to', \"'\", 'this', 'my', '!', 'is', 'for', 'of', 'but', 'in', 'that', 'not', 'have', 't', 'on', 'with', 'was', 'product', 'you', 'great', 'so', 'as', 'very', 'love', 'use', 's', 'like', 'good', 'they', 'are', 'hair', 'one', 'just', 'be', 'all', 'skin', 'me', 'will', 'well', 'at', 'these', 'really', 'would', 'if', 'out', 'can', 'or', 'works', 'when', 'had', ')', 'your', 'get', 'them', 'more', 'used', 'after', 'than', 'has', 'using', 'time', '(', 'from', 'no', 'only', 'up', 'don', 'what', 'much', 'does', 'do', 'too', 'nice', 'price', 'little', 'because', 'about', 've', 'been', 'am', 'work', 'm', 'other', 'an', 'also', 'buy', 'color', 'even', 'bought', 'better', 'long', 'some', 'off']\n"
     ]
    }
   ],
   "source": [
    "words = Counter()\n",
    "for s in x_train_token:\n",
    "  for w in s:\n",
    "    words[w] += 1\n",
    "\n",
    "sorted_words = list(words.keys())\n",
    "sorted_words.sort(key=lambda w: words[w], reverse=True)\n",
    "print(f\"Number of different Tokens in our Dataset: {len(sorted_words)}\")\n",
    "print(sorted_words[:100])"
   ]
  },
  {
   "cell_type": "markdown",
   "metadata": {},
   "source": [
    "Logistic regression"
   ]
  },
  {
   "cell_type": "code",
   "execution_count": 57,
   "metadata": {},
   "outputs": [],
   "source": [
    "vectorizer = CountVectorizer(binary=True)\n",
    "x_train_cv = vectorizer.fit_transform(x_train_text)\n",
    "x_test_cv = vectorizer.transform(x_test_text)"
   ]
  },
  {
   "cell_type": "code",
   "execution_count": 58,
   "metadata": {},
   "outputs": [
    {
     "name": "stdout",
     "output_type": "stream",
     "text": [
      "Before Vectorize:  Absolutely fantastic buy and will continue to purchase ! No bumps, redness, or irritation. My who-ha has been very happy :)\n"
     ]
    }
   ],
   "source": [
    "print('Before Vectorize: ', x_train_text[3])\n"
   ]
  },
  {
   "cell_type": "code",
   "execution_count": 59,
   "metadata": {},
   "outputs": [
    {
     "name": "stdout",
     "output_type": "stream",
     "text": [
      "After Vectorize: \n",
      "  (0, 3854)\t1\n",
      "  (0, 32415)\t1\n",
      "  (0, 52291)\t1\n",
      "  (0, 2300)\t1\n",
      "  (0, 19094)\t1\n",
      "  (0, 8873)\t1\n",
      "  (0, 53777)\t1\n",
      "  (0, 12133)\t1\n",
      "  (0, 49541)\t1\n",
      "  (0, 38789)\t1\n",
      "  (0, 33210)\t1\n",
      "  (0, 8666)\t1\n",
      "  (0, 40118)\t1\n",
      "  (0, 34460)\t1\n",
      "  (0, 26462)\t1\n",
      "  (0, 53632)\t1\n",
      "  (0, 22862)\t1\n",
      "  (0, 23317)\t1\n",
      "  (0, 6659)\t1\n",
      "  (0, 23211)\t1\n"
     ]
    }
   ],
   "source": [
    "# Notice that the matriz is sparse\n",
    "print('After Vectorize: ')\n",
    "print(x_train_cv[3])"
   ]
  },
  {
   "cell_type": "code",
   "execution_count": 60,
   "metadata": {},
   "outputs": [
    {
     "name": "stderr",
     "output_type": "stream",
     "text": [
      "/Users/jimmy/Projects/neuromatch-projects/.conda/lib/python3.10/site-packages/sklearn/linear_model/_sag.py:350: ConvergenceWarning: The max_iter was reached which means the coef_ did not converge\n",
      "  warnings.warn(\n"
     ]
    },
    {
     "data": {
      "text/html": [
       "<style>#sk-container-id-1 {color: black;}#sk-container-id-1 pre{padding: 0;}#sk-container-id-1 div.sk-toggleable {background-color: white;}#sk-container-id-1 label.sk-toggleable__label {cursor: pointer;display: block;width: 100%;margin-bottom: 0;padding: 0.3em;box-sizing: border-box;text-align: center;}#sk-container-id-1 label.sk-toggleable__label-arrow:before {content: \"▸\";float: left;margin-right: 0.25em;color: #696969;}#sk-container-id-1 label.sk-toggleable__label-arrow:hover:before {color: black;}#sk-container-id-1 div.sk-estimator:hover label.sk-toggleable__label-arrow:before {color: black;}#sk-container-id-1 div.sk-toggleable__content {max-height: 0;max-width: 0;overflow: hidden;text-align: left;background-color: #f0f8ff;}#sk-container-id-1 div.sk-toggleable__content pre {margin: 0.2em;color: black;border-radius: 0.25em;background-color: #f0f8ff;}#sk-container-id-1 input.sk-toggleable__control:checked~div.sk-toggleable__content {max-height: 200px;max-width: 100%;overflow: auto;}#sk-container-id-1 input.sk-toggleable__control:checked~label.sk-toggleable__label-arrow:before {content: \"▾\";}#sk-container-id-1 div.sk-estimator input.sk-toggleable__control:checked~label.sk-toggleable__label {background-color: #d4ebff;}#sk-container-id-1 div.sk-label input.sk-toggleable__control:checked~label.sk-toggleable__label {background-color: #d4ebff;}#sk-container-id-1 input.sk-hidden--visually {border: 0;clip: rect(1px 1px 1px 1px);clip: rect(1px, 1px, 1px, 1px);height: 1px;margin: -1px;overflow: hidden;padding: 0;position: absolute;width: 1px;}#sk-container-id-1 div.sk-estimator {font-family: monospace;background-color: #f0f8ff;border: 1px dotted black;border-radius: 0.25em;box-sizing: border-box;margin-bottom: 0.5em;}#sk-container-id-1 div.sk-estimator:hover {background-color: #d4ebff;}#sk-container-id-1 div.sk-parallel-item::after {content: \"\";width: 100%;border-bottom: 1px solid gray;flex-grow: 1;}#sk-container-id-1 div.sk-label:hover label.sk-toggleable__label {background-color: #d4ebff;}#sk-container-id-1 div.sk-serial::before {content: \"\";position: absolute;border-left: 1px solid gray;box-sizing: border-box;top: 0;bottom: 0;left: 50%;z-index: 0;}#sk-container-id-1 div.sk-serial {display: flex;flex-direction: column;align-items: center;background-color: white;padding-right: 0.2em;padding-left: 0.2em;position: relative;}#sk-container-id-1 div.sk-item {position: relative;z-index: 1;}#sk-container-id-1 div.sk-parallel {display: flex;align-items: stretch;justify-content: center;background-color: white;position: relative;}#sk-container-id-1 div.sk-item::before, #sk-container-id-1 div.sk-parallel-item::before {content: \"\";position: absolute;border-left: 1px solid gray;box-sizing: border-box;top: 0;bottom: 0;left: 50%;z-index: -1;}#sk-container-id-1 div.sk-parallel-item {display: flex;flex-direction: column;z-index: 1;position: relative;background-color: white;}#sk-container-id-1 div.sk-parallel-item:first-child::after {align-self: flex-end;width: 50%;}#sk-container-id-1 div.sk-parallel-item:last-child::after {align-self: flex-start;width: 50%;}#sk-container-id-1 div.sk-parallel-item:only-child::after {width: 0;}#sk-container-id-1 div.sk-dashed-wrapped {border: 1px dashed gray;margin: 0 0.4em 0.5em 0.4em;box-sizing: border-box;padding-bottom: 0.4em;background-color: white;}#sk-container-id-1 div.sk-label label {font-family: monospace;font-weight: bold;display: inline-block;line-height: 1.2em;}#sk-container-id-1 div.sk-label-container {text-align: center;}#sk-container-id-1 div.sk-container {/* jupyter's `normalize.less` sets `[hidden] { display: none; }` but bootstrap.min.css set `[hidden] { display: none !important; }` so we also need the `!important` here to be able to override the default hidden behavior on the sphinx rendered scikit-learn.org. See: https://github.com/scikit-learn/scikit-learn/issues/21755 */display: inline-block !important;position: relative;}#sk-container-id-1 div.sk-text-repr-fallback {display: none;}</style><div id=\"sk-container-id-1\" class=\"sk-top-container\"><div class=\"sk-text-repr-fallback\"><pre>LogisticRegression(solver=&#x27;saga&#x27;)</pre><b>In a Jupyter environment, please rerun this cell to show the HTML representation or trust the notebook. <br />On GitHub, the HTML representation is unable to render, please try loading this page with nbviewer.org.</b></div><div class=\"sk-container\" hidden><div class=\"sk-item\"><div class=\"sk-estimator sk-toggleable\"><input class=\"sk-toggleable__control sk-hidden--visually\" id=\"sk-estimator-id-1\" type=\"checkbox\" checked><label for=\"sk-estimator-id-1\" class=\"sk-toggleable__label sk-toggleable__label-arrow\">LogisticRegression</label><div class=\"sk-toggleable__content\"><pre>LogisticRegression(solver=&#x27;saga&#x27;)</pre></div></div></div></div></div>"
      ],
      "text/plain": [
       "LogisticRegression(solver='saga')"
      ]
     },
     "execution_count": 60,
     "metadata": {},
     "output_type": "execute_result"
    }
   ],
   "source": [
    "model = LogisticRegression(solver='saga')\n",
    "model.fit(x_train_cv, y_train)"
   ]
  },
  {
   "cell_type": "code",
   "execution_count": 61,
   "metadata": {},
   "outputs": [
    {
     "data": {
      "text/html": [
       "<style>#sk-container-id-2 {color: black;}#sk-container-id-2 pre{padding: 0;}#sk-container-id-2 div.sk-toggleable {background-color: white;}#sk-container-id-2 label.sk-toggleable__label {cursor: pointer;display: block;width: 100%;margin-bottom: 0;padding: 0.3em;box-sizing: border-box;text-align: center;}#sk-container-id-2 label.sk-toggleable__label-arrow:before {content: \"▸\";float: left;margin-right: 0.25em;color: #696969;}#sk-container-id-2 label.sk-toggleable__label-arrow:hover:before {color: black;}#sk-container-id-2 div.sk-estimator:hover label.sk-toggleable__label-arrow:before {color: black;}#sk-container-id-2 div.sk-toggleable__content {max-height: 0;max-width: 0;overflow: hidden;text-align: left;background-color: #f0f8ff;}#sk-container-id-2 div.sk-toggleable__content pre {margin: 0.2em;color: black;border-radius: 0.25em;background-color: #f0f8ff;}#sk-container-id-2 input.sk-toggleable__control:checked~div.sk-toggleable__content {max-height: 200px;max-width: 100%;overflow: auto;}#sk-container-id-2 input.sk-toggleable__control:checked~label.sk-toggleable__label-arrow:before {content: \"▾\";}#sk-container-id-2 div.sk-estimator input.sk-toggleable__control:checked~label.sk-toggleable__label {background-color: #d4ebff;}#sk-container-id-2 div.sk-label input.sk-toggleable__control:checked~label.sk-toggleable__label {background-color: #d4ebff;}#sk-container-id-2 input.sk-hidden--visually {border: 0;clip: rect(1px 1px 1px 1px);clip: rect(1px, 1px, 1px, 1px);height: 1px;margin: -1px;overflow: hidden;padding: 0;position: absolute;width: 1px;}#sk-container-id-2 div.sk-estimator {font-family: monospace;background-color: #f0f8ff;border: 1px dotted black;border-radius: 0.25em;box-sizing: border-box;margin-bottom: 0.5em;}#sk-container-id-2 div.sk-estimator:hover {background-color: #d4ebff;}#sk-container-id-2 div.sk-parallel-item::after {content: \"\";width: 100%;border-bottom: 1px solid gray;flex-grow: 1;}#sk-container-id-2 div.sk-label:hover label.sk-toggleable__label {background-color: #d4ebff;}#sk-container-id-2 div.sk-serial::before {content: \"\";position: absolute;border-left: 1px solid gray;box-sizing: border-box;top: 0;bottom: 0;left: 50%;z-index: 0;}#sk-container-id-2 div.sk-serial {display: flex;flex-direction: column;align-items: center;background-color: white;padding-right: 0.2em;padding-left: 0.2em;position: relative;}#sk-container-id-2 div.sk-item {position: relative;z-index: 1;}#sk-container-id-2 div.sk-parallel {display: flex;align-items: stretch;justify-content: center;background-color: white;position: relative;}#sk-container-id-2 div.sk-item::before, #sk-container-id-2 div.sk-parallel-item::before {content: \"\";position: absolute;border-left: 1px solid gray;box-sizing: border-box;top: 0;bottom: 0;left: 50%;z-index: -1;}#sk-container-id-2 div.sk-parallel-item {display: flex;flex-direction: column;z-index: 1;position: relative;background-color: white;}#sk-container-id-2 div.sk-parallel-item:first-child::after {align-self: flex-end;width: 50%;}#sk-container-id-2 div.sk-parallel-item:last-child::after {align-self: flex-start;width: 50%;}#sk-container-id-2 div.sk-parallel-item:only-child::after {width: 0;}#sk-container-id-2 div.sk-dashed-wrapped {border: 1px dashed gray;margin: 0 0.4em 0.5em 0.4em;box-sizing: border-box;padding-bottom: 0.4em;background-color: white;}#sk-container-id-2 div.sk-label label {font-family: monospace;font-weight: bold;display: inline-block;line-height: 1.2em;}#sk-container-id-2 div.sk-label-container {text-align: center;}#sk-container-id-2 div.sk-container {/* jupyter's `normalize.less` sets `[hidden] { display: none; }` but bootstrap.min.css set `[hidden] { display: none !important; }` so we also need the `!important` here to be able to override the default hidden behavior on the sphinx rendered scikit-learn.org. See: https://github.com/scikit-learn/scikit-learn/issues/21755 */display: inline-block !important;position: relative;}#sk-container-id-2 div.sk-text-repr-fallback {display: none;}</style><div id=\"sk-container-id-2\" class=\"sk-top-container\"><div class=\"sk-text-repr-fallback\"><pre>LogisticRegression(solver=&#x27;saga&#x27;)</pre><b>In a Jupyter environment, please rerun this cell to show the HTML representation or trust the notebook. <br />On GitHub, the HTML representation is unable to render, please try loading this page with nbviewer.org.</b></div><div class=\"sk-container\" hidden><div class=\"sk-item\"><div class=\"sk-estimator sk-toggleable\"><input class=\"sk-toggleable__control sk-hidden--visually\" id=\"sk-estimator-id-2\" type=\"checkbox\" checked><label for=\"sk-estimator-id-2\" class=\"sk-toggleable__label sk-toggleable__label-arrow\">LogisticRegression</label><div class=\"sk-toggleable__content\"><pre>LogisticRegression(solver=&#x27;saga&#x27;)</pre></div></div></div></div></div>"
      ],
      "text/plain": [
       "LogisticRegression(solver='saga')"
      ]
     },
     "execution_count": 61,
     "metadata": {},
     "output_type": "execute_result"
    }
   ],
   "source": [
    "LogisticRegression(C=1.0, class_weight=None, dual=False, fit_intercept=True,\n",
    "                   intercept_scaling=1, l1_ratio=None, max_iter=100,\n",
    "                   multi_class='auto', n_jobs=None, penalty='l2',\n",
    "                   random_state=None, solver='saga', tol=0.0001, verbose=0,\n",
    "                   warm_start=False)"
   ]
  },
  {
   "cell_type": "code",
   "execution_count": 62,
   "metadata": {},
   "outputs": [
    {
     "name": "stdout",
     "output_type": "stream",
     "text": [
      "              precision    recall  f1-score   support\n",
      "\n",
      "           0       0.70      0.64      0.67      6760\n",
      "           1       0.55      0.39      0.45      8769\n",
      "           2       0.90      0.96      0.93     48891\n",
      "\n",
      "    accuracy                           0.84     64420\n",
      "   macro avg       0.71      0.66      0.68     64420\n",
      "weighted avg       0.83      0.84      0.83     64420\n",
      "\n"
     ]
    }
   ],
   "source": [
    "y_pred = model.predict(x_test_cv)\n",
    "\n",
    "print(classification_report(y_test, y_pred))"
   ]
  },
  {
   "cell_type": "code",
   "execution_count": 63,
   "metadata": {},
   "outputs": [
    {
     "name": "stdout",
     "output_type": "stream",
     "text": [
      "(3, 55010)\n",
      "55010\n"
     ]
    }
   ],
   "source": [
    "print(model.coef_.shape)\n",
    "print(len(vectorizer.vocabulary_))\n",
    "\n",
    "words_sk = list(vectorizer.vocabulary_.keys())\n",
    "words_sk.sort(key=lambda w: model.coef_[0, vectorizer.vocabulary_[w]])"
   ]
  },
  {
   "cell_type": "code",
   "execution_count": 64,
   "metadata": {},
   "outputs": [
    {
     "name": "stdout",
     "output_type": "stream",
     "text": [
      "loves: -1.4783094190770925\n",
      "happier: -1.473736282202482\n",
      "complaints: -1.4575480674292\n",
      "amazing: -1.3474699703329769\n",
      "love: -1.3136226100477704\n",
      "beat: -1.2412848675431936\n",
      "excellent: -1.1920281380943896\n",
      "heavenly: -1.1897802999769092\n",
      "great: -1.1689174870384251\n",
      "sturdy: -1.1638078462518464\n",
      "worried: -1.16169019884402\n",
      "wonderful: -1.1568960322199653\n",
      "beautiful: -1.145121772702593\n",
      "cleared: -1.1284424548827865\n",
      "awesome: -1.1146693944487487\n",
      "best: -1.1022622280657661\n",
      "perfect: -1.092944843717975\n",
      "nice: -1.0884969685303947\n",
      "nervous: -1.0851019859004791\n",
      "lovely: -1.0839263973925775\n"
     ]
    }
   ],
   "source": [
    "for w in words_sk[:20]:\n",
    "  print('{}: {}'.format(w, model.coef_[0, vectorizer.vocabulary_[w]]))"
   ]
  },
  {
   "cell_type": "code",
   "execution_count": 65,
   "metadata": {},
   "outputs": [
    {
     "name": "stdout",
     "output_type": "stream",
     "text": [
      "worst: 1.9108887045322998\n",
      "unusable: 1.727158962716617\n",
      "junk: 1.7065411950438476\n",
      "crap: 1.6697492456885488\n",
      "horrible: 1.6374285580955317\n",
      "worthless: 1.553542730184217\n",
      "garbage: 1.53713357132917\n",
      "zero: 1.5080516642847295\n",
      "terrible: 1.5077998994938082\n",
      "unhappy: 1.480394655901458\n",
      "awful: 1.3992496572178694\n",
      "useless: 1.3861060726717225\n",
      "tampered: 1.3782024052761246\n",
      "sucks: 1.3656655836735354\n",
      "scam: 1.352397344016575\n",
      "trash: 1.3422035310009797\n",
      "ineffective: 1.3201724297934685\n",
      "dissapointed: 1.316913519993969\n",
      "dissatisfied: 1.3165347195692914\n",
      "ugh: 1.3152439884901506\n"
     ]
    }
   ],
   "source": [
    "for w in reversed(words_sk[-20:]):\n",
    "  print('{}: {}'.format(w, model.coef_[0, vectorizer.vocabulary_[w]]))"
   ]
  },
  {
   "cell_type": "code",
   "execution_count": 69,
   "metadata": {},
   "outputs": [
    {
     "name": "stdout",
     "output_type": "stream",
     "text": [
      "  (0, 3854)\t1\n",
      "  (0, 13655)\t1\n",
      "  (0, 18368)\t1\n",
      "  (0, 20307)\t1\n",
      "  (0, 21583)\t1\n",
      "  (0, 26585)\t1\n",
      "  (0, 27171)\t1\n",
      "  (0, 32415)\t1\n",
      "  (0, 35779)\t1\n",
      "  (0, 35983)\t1\n",
      "  (0, 38790)\t1\n",
      "  (0, 43418)\t1\n",
      "  (0, 43666)\t1\n",
      "  (0, 48817)\t1\n",
      "  (0, 49075)\t1\n",
      "  (0, 52291)\t1\n",
      "  (0, 52902)\t1\n",
      "  (0, 52981)\t1\n",
      "  (0, 53387)\t1\n",
      "  (0, 53464)\t1\n",
      "2\n",
      "[2]\n"
     ]
    }
   ],
   "source": [
    "print(x_test_cv[5])\n",
    "print(y_test[5])\n",
    "print(model.predict(x_test_cv[5]))"
   ]
  }
 ],
 "metadata": {
  "kernelspec": {
   "display_name": "Python 3",
   "language": "python",
   "name": "python3"
  },
  "language_info": {
   "codemirror_mode": {
    "name": "ipython",
    "version": 3
   },
   "file_extension": ".py",
   "mimetype": "text/x-python",
   "name": "python",
   "nbconvert_exporter": "python",
   "pygments_lexer": "ipython3",
   "version": "3.10.12"
  },
  "orig_nbformat": 4
 },
 "nbformat": 4,
 "nbformat_minor": 2
}
